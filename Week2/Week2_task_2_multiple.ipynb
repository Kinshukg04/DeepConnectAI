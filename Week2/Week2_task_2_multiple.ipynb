{
  "nbformat": 4,
  "nbformat_minor": 0,
  "metadata": {
    "kernelspec": {
      "display_name": "Python 3",
      "language": "python",
      "name": "python3"
    },
    "language_info": {
      "codemirror_mode": {
        "name": "ipython",
        "version": 3
      },
      "file_extension": ".py",
      "mimetype": "text/x-python",
      "name": "python",
      "nbconvert_exporter": "python",
      "pygments_lexer": "ipython3",
      "version": "3.7.3"
    },
    "toc": {
      "base_numbering": 1,
      "nav_menu": {},
      "number_sections": true,
      "sideBar": true,
      "skip_h1_title": false,
      "title_cell": "Table of Contents",
      "title_sidebar": "Contents",
      "toc_cell": false,
      "toc_position": {},
      "toc_section_display": true,
      "toc_window_display": false
    },
    "colab": {
      "name": "Week2: task_2_multiple.ipynb",
      "provenance": [],
      "collapsed_sections": [],
      "toc_visible": true
    }
  },
  "cells": [
    {
      "cell_type": "markdown",
      "metadata": {
        "id": "rtb8bgiC-PWe",
        "colab_type": "text"
      },
      "source": [
        "#### Predict your scores better :)\n",
        "As you saw in the previous simple linear regression task that previous year grades (G2) have significant correlation with third year grades (G3). But G2 is not direct causation of G3, there are many factors which determine G3. Let's add few more variables which may help to determine G3."
      ]
    },
    {
      "cell_type": "markdown",
      "metadata": {
        "id": "FSvbGtdP-PWg",
        "colab_type": "text"
      },
      "source": [
        "### Multiple linear regression\n",
        "Multiple linear regression is simply the linear regression extended to problems where the dependent or output variable is determined by more than one independent variable.<br>\n",
        "\n",
        "#####  $\\hat{y}$ (w, x) = w_0 + w_1 * x_1 + ... + w_p * x_ps\n",
        "\n",
        "#### Dataset\n",
        "The dataset is available at __\"data/multiple_linear_data.csv\"__ in the respective challenge's repo.<br><br>\n",
        "\n",
        "This is the __modified version__ of the dataset *'Student Performance'* provided by UCI Machine Learning repository.<br>\n",
        "Original dataset: https://archive.ics.uci.edu/ml/datasets/student+performance\n",
        "\n",
        "#### Features (X)\n",
        "1. age - student's age (numeric: from 15 to 22)\n",
        "2. address - student's home address type (binary: 'U' - urban or 'R' - rural)\n",
        "3. famsize - family size (binary: 'LE3' - less or equal to 3 or 'GT3' - greater than 3)\n",
        "4. reason - reason to choose this school (nominal: close to 'home', school 'reputation', 'course' preference or 'other')\n",
        "5. studytime - weekly study time (numeric: 1 - <2 hours, 2 - 2 to 5 hours, 3 - 5 to 10 hours, or 4 - >10 hours)\n",
        "6. failures - number of past class failures (numeric: n if 1<=n<3, else 4)\n",
        "7. schoolsup - extra educational support (binary: yes or no)\n",
        "8. famsup - family educational support (binary: yes or no)\n",
        "9. paid - extra paid classes within the course subject (Math or Portuguese) (binary: yes or no)\n",
        "10. activities - extra-curricular activities (binary: yes or no)\n",
        "11. higher - wants to take higher education (binary: yes or no)\n",
        "12. internet - Internet access at home (binary: yes or no)\n",
        "13. romantic - with a romantic relationship (binary: yes or no)\n",
        "14. freetime - free time after school (numeric: from 1 - very low to 5 - very high)\n",
        "15. goout - going out with friends (numeric: from 1 - very low to 5 - very high)\n",
        "16. health - current health status (numeric: from 1 - very bad to 5 - very good)\n",
        "17. absences - number of school absences (numeric: from 0 to 93)\n",
        "18. G1 - first year math grades (numeric: from 0 to 100)\n",
        "19. G2 - second year math grades (numeric: from 0 to 100)\n",
        "\n",
        "#### Output target (Y) \n",
        "20. G3 - final year math grades (numeric: from 0 to 100, output target)\n",
        "\n",
        "#### Objective\n",
        "To learn multiple linear regression and practice handling categorical features\n",
        "\n",
        "#### Tasks\n",
        "- To load the data and print first 5 rows\n",
        "- Transform categorical features into numerical features. Use either one hot encoding, label encoding or any other suitable preprocessing technique.\n",
        "- Define X matrix (independent features) and y vector (target feature)\n",
        "- Train Linear Regression Model (sklearn.linear_model.LinearRegression class)\n",
        "- Print 'Mean Squared Error' (MSE) obtained on the same dataset i.e. same X and y (sklearn.metrics.mean_squared_error function)\n",
        "- Predict on a numpy array defined by you\n",
        "```python\n",
        ">>> new_data = np.array([1,0,1,.....,30,20]).reshape(1,-1)\n",
        ">>> print(\"Predicted grade:\",model.predict(new_data))\n",
        "```\n",
        "\n",
        "#### Further fun (will not be evaluated)\n",
        "- Train LassoRegression and RidgeRegression as well. Read about them from scikit-learn user guide.\n",
        "- *Step-up challenge*: Get down the MSE (mean squared error) below 3.25 using linear models\n",
        "- Implement multiple linear regression from scratch\n",
        "- Plot loss curve (Loss vs number of iterations)\n",
        "\n",
        "#### Helpful links\n",
        "- Scikit-learn documentation for linear regression: https://scikit-learn.org/stable/modules/generated/sklearn.linear_model.LinearRegression.html\n",
        "- Read till where you feel comfortable: https://jakevdp.github.io/PythonDataScienceHandbook/05.06-linear-regression.html\n",
        "- Use slack for doubts: https://join.slack.com/t/deepconnectai/shared_invite/zt-givlfnf6-~cn3SQ43k0BGDrG9_YOn4g"
      ]
    },
    {
      "cell_type": "code",
      "metadata": {
        "id": "GhAQkmjP-PWh",
        "colab_type": "code",
        "colab": {}
      },
      "source": [
        "import numpy as np\n",
        "import pandas as pd\n",
        "from sklearn.linear_model import LinearRegression\n",
        "from sklearn.metrics import mean_squared_error\n",
        "from sklearn import preprocessing\n",
        "\n",
        "# IF sklearn.compose.ColumnTransformer is used for feature transformation, then below import will help to infer features\n",
        "#from helper.utils import get_column_names_from_ColumnTransformer"
      ],
      "execution_count": null,
      "outputs": []
    },
    {
      "cell_type": "code",
      "metadata": {
        "id": "B5GmxElG-hMU",
        "colab_type": "code",
        "colab": {
          "base_uri": "https://localhost:8080/",
          "height": 286
        },
        "outputId": "16446a8c-2a43-4fc5-c8dc-6a3c66314cf7"
      },
      "source": [
        "!wget https://github.com/DeepConnectAI/challenge-week-2/raw/master/data/multiple_linear_data.csv"
      ],
      "execution_count": null,
      "outputs": [
        {
          "output_type": "stream",
          "text": [
            "--2020-08-22 09:24:21--  https://github.com/DeepConnectAI/challenge-week-2/raw/master/data/multiple_linear_data.csv\n",
            "Resolving github.com (github.com)... 140.82.113.3\n",
            "Connecting to github.com (github.com)|140.82.113.3|:443... connected.\n",
            "HTTP request sent, awaiting response... 302 Found\n",
            "Location: https://raw.githubusercontent.com/DeepConnectAI/challenge-week-2/master/data/multiple_linear_data.csv [following]\n",
            "--2020-08-22 09:24:22--  https://raw.githubusercontent.com/DeepConnectAI/challenge-week-2/master/data/multiple_linear_data.csv\n",
            "Resolving raw.githubusercontent.com (raw.githubusercontent.com)... 151.101.0.133, 151.101.64.133, 151.101.128.133, ...\n",
            "Connecting to raw.githubusercontent.com (raw.githubusercontent.com)|151.101.0.133|:443... connected.\n",
            "HTTP request sent, awaiting response... 200 OK\n",
            "Length: 24764 (24K) [text/plain]\n",
            "Saving to: ‘multiple_linear_data.csv’\n",
            "\n",
            "\rmultiple_linear_dat   0%[                    ]       0  --.-KB/s               \rmultiple_linear_dat 100%[===================>]  24.18K  --.-KB/s    in 0.01s   \n",
            "\n",
            "2020-08-22 09:24:22 (2.24 MB/s) - ‘multiple_linear_data.csv’ saved [24764/24764]\n",
            "\n"
          ],
          "name": "stdout"
        }
      ]
    },
    {
      "cell_type": "code",
      "metadata": {
        "id": "n-_EOckf-PWn",
        "colab_type": "code",
        "colab": {}
      },
      "source": [
        "# NOTE: DO NOT CHANGE THE VARIABLE NAME(S) IN THIS CELL\n",
        "# Load the data\n",
        "data = pd.read_csv('./multiple_linear_data.csv')"
      ],
      "execution_count": null,
      "outputs": []
    },
    {
      "cell_type": "code",
      "metadata": {
        "id": "9yJV3Ajs-PWs",
        "colab_type": "code",
        "colab": {}
      },
      "source": [
        "# You may need original list of columns to interpret the features after transformation, maybe\n",
        "orig_cols = data.columns"
      ],
      "execution_count": null,
      "outputs": []
    },
    {
      "cell_type": "code",
      "metadata": {
        "id": "HGkDGccQfdP5",
        "colab_type": "code",
        "colab": {
          "base_uri": "https://localhost:8080/",
          "height": 215
        },
        "outputId": "2f8029df-829c-405d-934d-701a13190048"
      },
      "source": [
        "data.head()"
      ],
      "execution_count": null,
      "outputs": [
        {
          "output_type": "execute_result",
          "data": {
            "text/html": [
              "<div>\n",
              "<style scoped>\n",
              "    .dataframe tbody tr th:only-of-type {\n",
              "        vertical-align: middle;\n",
              "    }\n",
              "\n",
              "    .dataframe tbody tr th {\n",
              "        vertical-align: top;\n",
              "    }\n",
              "\n",
              "    .dataframe thead th {\n",
              "        text-align: right;\n",
              "    }\n",
              "</style>\n",
              "<table border=\"1\" class=\"dataframe\">\n",
              "  <thead>\n",
              "    <tr style=\"text-align: right;\">\n",
              "      <th></th>\n",
              "      <th>age</th>\n",
              "      <th>address</th>\n",
              "      <th>famsize</th>\n",
              "      <th>reason</th>\n",
              "      <th>studytime</th>\n",
              "      <th>failures</th>\n",
              "      <th>schoolsup</th>\n",
              "      <th>famsup</th>\n",
              "      <th>paid</th>\n",
              "      <th>activities</th>\n",
              "      <th>higher</th>\n",
              "      <th>internet</th>\n",
              "      <th>romantic</th>\n",
              "      <th>freetime</th>\n",
              "      <th>goout</th>\n",
              "      <th>health</th>\n",
              "      <th>absences</th>\n",
              "      <th>G1</th>\n",
              "      <th>G2</th>\n",
              "      <th>G3</th>\n",
              "    </tr>\n",
              "  </thead>\n",
              "  <tbody>\n",
              "    <tr>\n",
              "      <th>0</th>\n",
              "      <td>18</td>\n",
              "      <td>U</td>\n",
              "      <td>GT3</td>\n",
              "      <td>course</td>\n",
              "      <td>2</td>\n",
              "      <td>0</td>\n",
              "      <td>yes</td>\n",
              "      <td>no</td>\n",
              "      <td>no</td>\n",
              "      <td>no</td>\n",
              "      <td>yes</td>\n",
              "      <td>no</td>\n",
              "      <td>no</td>\n",
              "      <td>3</td>\n",
              "      <td>4</td>\n",
              "      <td>3</td>\n",
              "      <td>6</td>\n",
              "      <td>25</td>\n",
              "      <td>30</td>\n",
              "      <td>30</td>\n",
              "    </tr>\n",
              "    <tr>\n",
              "      <th>1</th>\n",
              "      <td>17</td>\n",
              "      <td>U</td>\n",
              "      <td>GT3</td>\n",
              "      <td>course</td>\n",
              "      <td>2</td>\n",
              "      <td>0</td>\n",
              "      <td>no</td>\n",
              "      <td>yes</td>\n",
              "      <td>no</td>\n",
              "      <td>no</td>\n",
              "      <td>yes</td>\n",
              "      <td>yes</td>\n",
              "      <td>no</td>\n",
              "      <td>3</td>\n",
              "      <td>3</td>\n",
              "      <td>3</td>\n",
              "      <td>4</td>\n",
              "      <td>25</td>\n",
              "      <td>25</td>\n",
              "      <td>30</td>\n",
              "    </tr>\n",
              "    <tr>\n",
              "      <th>2</th>\n",
              "      <td>15</td>\n",
              "      <td>U</td>\n",
              "      <td>LE3</td>\n",
              "      <td>other</td>\n",
              "      <td>2</td>\n",
              "      <td>3</td>\n",
              "      <td>yes</td>\n",
              "      <td>no</td>\n",
              "      <td>yes</td>\n",
              "      <td>no</td>\n",
              "      <td>yes</td>\n",
              "      <td>yes</td>\n",
              "      <td>no</td>\n",
              "      <td>3</td>\n",
              "      <td>2</td>\n",
              "      <td>3</td>\n",
              "      <td>10</td>\n",
              "      <td>35</td>\n",
              "      <td>40</td>\n",
              "      <td>50</td>\n",
              "    </tr>\n",
              "    <tr>\n",
              "      <th>3</th>\n",
              "      <td>15</td>\n",
              "      <td>U</td>\n",
              "      <td>GT3</td>\n",
              "      <td>home</td>\n",
              "      <td>3</td>\n",
              "      <td>0</td>\n",
              "      <td>no</td>\n",
              "      <td>yes</td>\n",
              "      <td>yes</td>\n",
              "      <td>yes</td>\n",
              "      <td>yes</td>\n",
              "      <td>yes</td>\n",
              "      <td>yes</td>\n",
              "      <td>2</td>\n",
              "      <td>2</td>\n",
              "      <td>5</td>\n",
              "      <td>2</td>\n",
              "      <td>75</td>\n",
              "      <td>70</td>\n",
              "      <td>75</td>\n",
              "    </tr>\n",
              "    <tr>\n",
              "      <th>4</th>\n",
              "      <td>16</td>\n",
              "      <td>U</td>\n",
              "      <td>GT3</td>\n",
              "      <td>home</td>\n",
              "      <td>2</td>\n",
              "      <td>0</td>\n",
              "      <td>no</td>\n",
              "      <td>yes</td>\n",
              "      <td>yes</td>\n",
              "      <td>no</td>\n",
              "      <td>yes</td>\n",
              "      <td>no</td>\n",
              "      <td>no</td>\n",
              "      <td>3</td>\n",
              "      <td>2</td>\n",
              "      <td>5</td>\n",
              "      <td>4</td>\n",
              "      <td>30</td>\n",
              "      <td>50</td>\n",
              "      <td>50</td>\n",
              "    </tr>\n",
              "  </tbody>\n",
              "</table>\n",
              "</div>"
            ],
            "text/plain": [
              "   age address famsize  reason  studytime  ...  health absences  G1  G2  G3\n",
              "0   18       U     GT3  course          2  ...       3        6  25  30  30\n",
              "1   17       U     GT3  course          2  ...       3        4  25  25  30\n",
              "2   15       U     LE3   other          2  ...       3       10  35  40  50\n",
              "3   15       U     GT3    home          3  ...       5        2  75  70  75\n",
              "4   16       U     GT3    home          2  ...       5        4  30  50  50\n",
              "\n",
              "[5 rows x 20 columns]"
            ]
          },
          "metadata": {
            "tags": []
          },
          "execution_count": 6
        }
      ]
    },
    {
      "cell_type": "code",
      "metadata": {
        "id": "HV0w2Mes-PWz",
        "colab_type": "code",
        "colab": {}
      },
      "source": [
        "# Handle categorical values\n",
        "label_encoder = preprocessing.LabelEncoder() "
      ],
      "execution_count": null,
      "outputs": []
    },
    {
      "cell_type": "code",
      "metadata": {
        "id": "WOCFPc_1-PW4",
        "colab_type": "code",
        "colab": {}
      },
      "source": [
        "data['address']= label_encoder.fit_transform(data['address'])\n",
        "data['reason']= label_encoder.fit_transform(data['reason'])\n",
        "data['schoolsup']= label_encoder.fit_transform(data['schoolsup'])\n",
        "data['famsup']= label_encoder.fit_transform(data['famsup'])\n",
        "data['paid']= label_encoder.fit_transform(data['paid'])\n",
        "data['higher']= label_encoder.fit_transform(data['higher'])\n",
        "data['internet']= label_encoder.fit_transform(data['internet'])\n",
        "data['romantic']= label_encoder.fit_transform(data['romantic'])"
      ],
      "execution_count": null,
      "outputs": []
    },
    {
      "cell_type": "code",
      "metadata": {
        "id": "6NRttFDf-PW9",
        "colab_type": "code",
        "colab": {}
      },
      "source": [
        "data['famsize']= label_encoder.fit_transform(data['famsize'])\n",
        "\n",
        "data['activities']= label_encoder.fit_transform(data['activities'])"
      ],
      "execution_count": null,
      "outputs": []
    },
    {
      "cell_type": "code",
      "metadata": {
        "id": "PtrbggIt-PXB",
        "colab_type": "code",
        "colab": {
          "base_uri": "https://localhost:8080/",
          "height": 101
        },
        "outputId": "1790d4fc-993f-487c-da97-c808561a3d08"
      },
      "source": [
        "data.columns"
      ],
      "execution_count": null,
      "outputs": [
        {
          "output_type": "execute_result",
          "data": {
            "text/plain": [
              "Index(['age', 'address', 'famsize', 'reason', 'studytime', 'failures',\n",
              "       'schoolsup', 'famsup', 'paid', 'activities', 'higher', 'internet',\n",
              "       'romantic', 'freetime', 'goout', 'health', 'absences', 'G1', 'G2',\n",
              "       'G3'],\n",
              "      dtype='object')"
            ]
          },
          "metadata": {
            "tags": []
          },
          "execution_count": 22
        }
      ]
    },
    {
      "cell_type": "code",
      "metadata": {
        "id": "xrUrkAEV-PXG",
        "colab_type": "code",
        "colab": {}
      },
      "source": [
        "# Define your X and y\n",
        "X = data[data.columns[0:19]]\n",
        "y = data[data.columns[19:20]]"
      ],
      "execution_count": null,
      "outputs": []
    },
    {
      "cell_type": "code",
      "metadata": {
        "id": "xdchXH3IyXbN",
        "colab_type": "code",
        "colab": {
          "base_uri": "https://localhost:8080/",
          "height": 50
        },
        "outputId": "1ab5bb3b-89bf-4f16-b3f3-9865e0f996e2"
      },
      "source": [
        "print(X.shape)\n",
        "print(y.shape)"
      ],
      "execution_count": null,
      "outputs": [
        {
          "output_type": "stream",
          "text": [
            "(395, 19)\n",
            "(395, 1)\n"
          ],
          "name": "stdout"
        }
      ]
    },
    {
      "cell_type": "code",
      "metadata": {
        "id": "XOIQsWoC-PXL",
        "colab_type": "code",
        "colab": {}
      },
      "source": [
        "# Initialize the model\n",
        "model = LinearRegression()"
      ],
      "execution_count": null,
      "outputs": []
    },
    {
      "cell_type": "code",
      "metadata": {
        "id": "P3zBLPvr-PXQ",
        "colab_type": "code",
        "colab": {
          "base_uri": "https://localhost:8080/",
          "height": 34
        },
        "outputId": "5bd4daef-b87e-4708-999f-5ee87d555b8b"
      },
      "source": [
        "# Fit the model. Wait! We will complete this step for you ;)\n",
        "model.fit(X, y)"
      ],
      "execution_count": null,
      "outputs": [
        {
          "output_type": "execute_result",
          "data": {
            "text/plain": [
              "LinearRegression(copy_X=True, fit_intercept=True, n_jobs=None, normalize=False)"
            ]
          },
          "metadata": {
            "tags": []
          },
          "execution_count": 26
        }
      ]
    },
    {
      "cell_type": "code",
      "metadata": {
        "id": "OZbt3RF5-PXU",
        "colab_type": "code",
        "colab": {
          "base_uri": "https://localhost:8080/",
          "height": 50
        },
        "outputId": "e0d99e35-5e83-4d90-a80e-009fb79d7151"
      },
      "source": [
        "# Print mean squared error\n",
        "y_pred = model.predict(X)\n",
        "mse = mean_squared_error(y,y_pred) \n",
        "print(f\"\\nMSE: {mse}\")"
      ],
      "execution_count": null,
      "outputs": [
        {
          "output_type": "stream",
          "text": [
            "\n",
            "MSE: 85.71253099296834\n"
          ],
          "name": "stdout"
        }
      ]
    },
    {
      "cell_type": "code",
      "metadata": {
        "id": "_Qdj6PG9-PXb",
        "colab_type": "code",
        "colab": {
          "base_uri": "https://localhost:8080/",
          "height": 34
        },
        "outputId": "f9cef84c-b97f-4492-fef5-4e489bc08405"
      },
      "source": [
        "# Predict on your own data\n",
        "new_data = np.array([1,0,1,0,1,0,1,1,1,1,0,0,0,0,1,0,20,30,20]).reshape(1,-1)\n",
        "print(\"Predicted grade:\",model.predict(new_data))"
      ],
      "execution_count": null,
      "outputs": [
        {
          "output_type": "stream",
          "text": [
            "Predicted grade: [[27.97472797]]\n"
          ],
          "name": "stdout"
        }
      ]
    },
    {
      "cell_type": "code",
      "metadata": {
        "id": "pPB5WBAa-PXf",
        "colab_type": "code",
        "colab": {}
      },
      "source": [
        ""
      ],
      "execution_count": null,
      "outputs": []
    }
  ]
}