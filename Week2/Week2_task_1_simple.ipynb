{
  "nbformat": 4,
  "nbformat_minor": 0,
  "metadata": {
    "kernelspec": {
      "display_name": "Python 3",
      "language": "python",
      "name": "python3"
    },
    "language_info": {
      "codemirror_mode": {
        "name": "ipython",
        "version": 3
      },
      "file_extension": ".py",
      "mimetype": "text/x-python",
      "name": "python",
      "nbconvert_exporter": "python",
      "pygments_lexer": "ipython3",
      "version": "3.7.3"
    },
    "toc": {
      "base_numbering": 1,
      "nav_menu": {},
      "number_sections": true,
      "sideBar": true,
      "skip_h1_title": false,
      "title_cell": "Table of Contents",
      "title_sidebar": "Contents",
      "toc_cell": false,
      "toc_position": {},
      "toc_section_display": true,
      "toc_window_display": false
    },
    "colab": {
      "name": "Week2: task_1_simple.ipynb",
      "provenance": [],
      "collapsed_sections": [],
      "toc_visible": true
    }
  },
  "cells": [
    {
      "cell_type": "markdown",
      "metadata": {
        "id": "19s-1OQYeMo8",
        "colab_type": "text"
      },
      "source": [
        "### Simple Linear Regression\n",
        "Linear regression is among the simplest regression methods. One of the main advantages of using it is ease of interpreting results. Simple linear regression is special case of regression where target feature is dependent on single variable, and then we find the best fitting line.<br>\n",
        "\n",
        "##### y = m*x + c <br>\n",
        "\n",
        "#### Dataset\n",
        "The dataset is available at __\"data/simple_linear_data.csv\"__ in the respective challenge's repo.<br><br>\n",
        "This is the modified version of the dataset 'Student Performance' provided by UCI Machine Learning repository.<br>\n",
        "Original dataset: https://archive.ics.uci.edu/ml/datasets/student+performance\n",
        "\n",
        "#### Features (X)\n",
        "- G2 - second year math grades (numeric: from 0 to 100)\n",
        "\n",
        "#### Target (y)\n",
        "- G3 - third year math grades (numeric: from 0 to 100, output target)\n",
        "\n",
        "#### Objective\n",
        "To gain understanding of single linear regression through implementing the model from scratch\n",
        "\n",
        "#### Tasks\n",
        "- Read the data from above mentioned dataset and define X and y as numpy array\n",
        "- Add column at position 0 with all values=1 (pandas.DataFrame.insert function)\n",
        "- Print rows from 40 to 55.\n",
        "- Print the shape and datatype of both X and y\n",
        "- Follow code cells to implement simple linear regression from scratch\n",
        "    - Write hypothesis function to predict values\n",
        "    - Write function for calculating mean_squared_error\n",
        "    - Write function to return gradients for given weights\n",
        "    - Perform gradient descent taking help of above functions\n",
        "\n",
        "#### Further Fun (will not be evaluated\n",
        "- Remove outliers, train again and see the difference in error.\n",
        "```python\n",
        "# Add this line before defining X and y\n",
        "data = data[(data['G3']!=0)|((data['G2']==0)&(data['G3']==0))]\n",
        "```\n",
        "- Replace \"*weights = np.random.rand(2)*\" line in gradient descent with below line, train again and visualize results.\n",
        "```python\n",
        "# Replace above line with following in gradient descent function\n",
        "weights = np.zeros(2,)\n",
        "```\n",
        "- Play with learning rate and max_iterations\n",
        "- Generalize the code for multivariate(multiple) linear regression\n",
        "\n",
        "#### Resources\n",
        "- Linear regression maths: https://www.youtube.com/watch?v=ZkjP5RJLQF4\n",
        "- Simple linear regression: https://www.youtube.com/watch?v=iAgYLRy7e20\n",
        "- Tutorial: https://machinelearningmastery.com/implement-simple-linear-regression-scratch-python\n"
      ]
    },
    {
      "cell_type": "code",
      "metadata": {
        "id": "DjFpLQLteMo-",
        "colab_type": "code",
        "colab": {}
      },
      "source": [
        "import numpy as np\n",
        "import matplotlib.pyplot as plt\n",
        "import pandas as pd"
      ],
      "execution_count": 75,
      "outputs": []
    },
    {
      "cell_type": "code",
      "metadata": {
        "id": "y3jlOmpDiWfh",
        "colab_type": "code",
        "colab": {
          "base_uri": "https://localhost:8080/",
          "height": 286
        },
        "outputId": "bd36db1f-9b41-4cbe-d952-e239df33a5de"
      },
      "source": [
        "!wget https://github.com/DeepConnectAI/challenge-week-2/raw/master/data/simple_linear_data.csv"
      ],
      "execution_count": 76,
      "outputs": [
        {
          "output_type": "stream",
          "text": [
            "--2020-08-21 09:54:44--  https://github.com/DeepConnectAI/challenge-week-2/raw/master/data/simple_linear_data.csv\n",
            "Resolving github.com (github.com)... 140.82.112.3\n",
            "Connecting to github.com (github.com)|140.82.112.3|:443... connected.\n",
            "HTTP request sent, awaiting response... 302 Found\n",
            "Location: https://raw.githubusercontent.com/DeepConnectAI/challenge-week-2/master/data/simple_linear_data.csv [following]\n",
            "--2020-08-21 09:54:44--  https://raw.githubusercontent.com/DeepConnectAI/challenge-week-2/master/data/simple_linear_data.csv\n",
            "Resolving raw.githubusercontent.com (raw.githubusercontent.com)... 151.101.0.133, 151.101.64.133, 151.101.128.133, ...\n",
            "Connecting to raw.githubusercontent.com (raw.githubusercontent.com)|151.101.0.133|:443... connected.\n",
            "HTTP request sent, awaiting response... 200 OK\n",
            "Length: 2326 (2.3K) [text/plain]\n",
            "Saving to: ‘simple_linear_data.csv.1’\n",
            "\n",
            "\rsimple_linear_data.   0%[                    ]       0  --.-KB/s               \rsimple_linear_data. 100%[===================>]   2.27K  --.-KB/s    in 0s      \n",
            "\n",
            "2020-08-21 09:54:45 (43.0 MB/s) - ‘simple_linear_data.csv.1’ saved [2326/2326]\n",
            "\n"
          ],
          "name": "stdout"
        }
      ]
    },
    {
      "cell_type": "code",
      "metadata": {
        "id": "El7HpvobeMpE",
        "colab_type": "code",
        "colab": {}
      },
      "source": [
        "# Read the data from provided dir\n",
        "\n",
        "data = pd.read_csv('./simple_linear_data.csv')"
      ],
      "execution_count": 77,
      "outputs": []
    },
    {
      "cell_type": "code",
      "metadata": {
        "id": "aJxBEa6keMpI",
        "colab_type": "code",
        "colab": {
          "base_uri": "https://localhost:8080/",
          "height": 195
        },
        "outputId": "2f39a63a-7b80-43e1-b19c-1b07cbc08795"
      },
      "source": [
        "# Add column which has all 1s\n",
        "# The idea is that weight corresponding to this column is equal to intercept\n",
        "# This way it is efficient and easier to handle the bias/intercept term\n",
        "\n",
        "data.insert(0, column='G1', value=1)\n",
        "data.head()"
      ],
      "execution_count": 78,
      "outputs": [
        {
          "output_type": "execute_result",
          "data": {
            "text/html": [
              "<div>\n",
              "<style scoped>\n",
              "    .dataframe tbody tr th:only-of-type {\n",
              "        vertical-align: middle;\n",
              "    }\n",
              "\n",
              "    .dataframe tbody tr th {\n",
              "        vertical-align: top;\n",
              "    }\n",
              "\n",
              "    .dataframe thead th {\n",
              "        text-align: right;\n",
              "    }\n",
              "</style>\n",
              "<table border=\"1\" class=\"dataframe\">\n",
              "  <thead>\n",
              "    <tr style=\"text-align: right;\">\n",
              "      <th></th>\n",
              "      <th>G1</th>\n",
              "      <th>G2</th>\n",
              "      <th>G3</th>\n",
              "    </tr>\n",
              "  </thead>\n",
              "  <tbody>\n",
              "    <tr>\n",
              "      <th>0</th>\n",
              "      <td>1</td>\n",
              "      <td>30</td>\n",
              "      <td>30</td>\n",
              "    </tr>\n",
              "    <tr>\n",
              "      <th>1</th>\n",
              "      <td>1</td>\n",
              "      <td>25</td>\n",
              "      <td>30</td>\n",
              "    </tr>\n",
              "    <tr>\n",
              "      <th>2</th>\n",
              "      <td>1</td>\n",
              "      <td>40</td>\n",
              "      <td>50</td>\n",
              "    </tr>\n",
              "    <tr>\n",
              "      <th>3</th>\n",
              "      <td>1</td>\n",
              "      <td>70</td>\n",
              "      <td>75</td>\n",
              "    </tr>\n",
              "    <tr>\n",
              "      <th>4</th>\n",
              "      <td>1</td>\n",
              "      <td>50</td>\n",
              "      <td>50</td>\n",
              "    </tr>\n",
              "  </tbody>\n",
              "</table>\n",
              "</div>"
            ],
            "text/plain": [
              "   G1  G2  G3\n",
              "0   1  30  30\n",
              "1   1  25  30\n",
              "2   1  40  50\n",
              "3   1  70  75\n",
              "4   1  50  50"
            ]
          },
          "metadata": {
            "tags": []
          },
          "execution_count": 78
        }
      ]
    },
    {
      "cell_type": "code",
      "metadata": {
        "id": "f96vlGBfeMpM",
        "colab_type": "code",
        "colab": {
          "base_uri": "https://localhost:8080/",
          "height": 218
        },
        "outputId": "141c4877-c250-41da-a10c-c8933e4e3134"
      },
      "source": [
        "# Print the dataframe rows\n",
        "print(data.loc[40:50])"
      ],
      "execution_count": 79,
      "outputs": [
        {
          "output_type": "stream",
          "text": [
            "    G1  G2   G3\n",
            "40   1  50   55\n",
            "41   1  60   60\n",
            "42   1  90   90\n",
            "43   1  40   55\n",
            "44   1  50   45\n",
            "45   1  40   30\n",
            "46   1  60   55\n",
            "47   1  95  100\n",
            "48   1  75   70\n",
            "49   1  35   35\n",
            "50   1  65   65\n"
          ],
          "name": "stdout"
        }
      ]
    },
    {
      "cell_type": "code",
      "metadata": {
        "id": "O9hB6nAkeMpQ",
        "colab_type": "code",
        "colab": {}
      },
      "source": [
        "# Define X (input features) and y (output feature) \n",
        "X = np.array(data[data.columns[0:2]])\n",
        "y = np.array(data['G3'])"
      ],
      "execution_count": 80,
      "outputs": []
    },
    {
      "cell_type": "code",
      "metadata": {
        "id": "PEm3ZadEeMpV",
        "colab_type": "code",
        "colab": {
          "base_uri": "https://localhost:8080/",
          "height": 50
        },
        "outputId": "c510049e-a6f8-4af2-f68b-3c70ae06d17f"
      },
      "source": [
        "X_shape = X.shape\n",
        "X_type  = type(X)\n",
        "y_shape = y.shape\n",
        "y_type  = type(y)\n",
        "print(f'X: Type-{X_type}, Shape-{X_shape}')\n",
        "print(f'y: Type-{y_type}, Shape-{y_shape}')"
      ],
      "execution_count": 81,
      "outputs": [
        {
          "output_type": "stream",
          "text": [
            "X: Type-<class 'numpy.ndarray'>, Shape-(395, 2)\n",
            "y: Type-<class 'numpy.ndarray'>, Shape-(395,)\n"
          ],
          "name": "stdout"
        }
      ]
    },
    {
      "cell_type": "markdown",
      "metadata": {
        "id": "nmmfQRUseMpZ",
        "colab_type": "text"
      },
      "source": [
        "__Expected output__:<br><br>\n",
        "X: Type-<class 'numpy.ndarray'>, Shape-(395,2)<br>\n",
        "y: Type-<class 'numpy.ndarray'>, Shape-(395,)"
      ]
    },
    {
      "cell_type": "markdown",
      "metadata": {
        "id": "XSx0A2iqeMpa",
        "colab_type": "text"
      },
      "source": [
        "Let us visualize the relationship between X and y"
      ]
    },
    {
      "cell_type": "code",
      "metadata": {
        "id": "Iw7NGZTyeMpb",
        "colab_type": "code",
        "colab": {
          "base_uri": "https://localhost:8080/",
          "height": 295
        },
        "outputId": "fba08dc8-b443-4c77-af63-96a1bcd68336"
      },
      "source": [
        "# DO NOT EDIT THIS CODE CELL\n",
        "plt.scatter(X[:,1],y)\n",
        "plt.title('Relation between second year grades and third year grades')\n",
        "plt.xlabel('G2 (X - Second year grades)')\n",
        "plt.ylabel('G3 (Y - Third year grades)')\n",
        "plt.show()"
      ],
      "execution_count": 82,
      "outputs": [
        {
          "output_type": "display_data",
          "data": {
            "image/png": "[encoded data removed]",
            "text/plain": [
              "<Figure size 432x288 with 1 Axes>"
            ]
          },
          "metadata": {
            "tags": [],
            "needs_background": "light"
          }
        }
      ]
    },
    {
      "cell_type": "markdown",
      "metadata": {
        "id": "XFUinF9MeMpf",
        "colab_type": "text"
      },
      "source": [
        "##### Let us start implementing linear regression from scratch. Just follow code cells, see hints if required."
      ]
    },
    {
      "cell_type": "code",
      "metadata": {
        "id": "bQWDjoHeeMpg",
        "colab_type": "code",
        "colab": {}
      },
      "source": [
        "def predict(X, weights):\n",
        "    '''\n",
        "    weights   : array (2,1) w0 and w1\n",
        "    X         : array (m,2) x0 (intercept=1) and x1\n",
        "    \n",
        "    Returns predicted y using hyothesis linear function defined by given weights\n",
        "    '''\n",
        "    ### START CODE HERE ###\n",
        "    #y_pred = X[0]*weights[0]+X[1]*weights[1]\n",
        "    y_pred = np.dot(X,weights)\n",
        "    #y_pred = X*weights\n",
        "    ### END CODE HERE ###\n",
        "    #print(y_pred)\n",
        "    #print(X.shape[0])\n",
        "    assert (y_pred.shape==(X.shape[0],)), 'Wrong implementation of predict function. Check carefully'\n",
        "    \n",
        "    return y_pred"
      ],
      "execution_count": 83,
      "outputs": []
    },
    {
      "cell_type": "code",
      "metadata": {
        "id": "DCPTsnnyeMpk",
        "colab_type": "code",
        "colab": {}
      },
      "source": [
        "def mean_squared_error(y_true, y_pred) : \n",
        "    '''\n",
        "    y_true : (m,1)\n",
        "    y_pred : (m,1)\n",
        "    \n",
        "    Return the mean squared error\n",
        "    '''\n",
        "    ### START CODE HERE ###\n",
        "    loss = np.square(np.subtract(y_true,y_pred)).mean() \n",
        "    ### END CODE HERE ###\n",
        "    \n",
        "    return loss"
      ],
      "execution_count": 84,
      "outputs": []
    },
    {
      "cell_type": "code",
      "metadata": {
        "id": "QodPe5DmeMpo",
        "colab_type": "code",
        "colab": {}
      },
      "source": [
        "def gradient(X, y_true, y_pred):\n",
        "    '''\n",
        "    X      : array (m,2)\n",
        "    y_true : array (m,1)\n",
        "    y_pred : array (m,1)\n",
        "    \n",
        "    Returns a numpy array with gradients. Shape (2,1)\n",
        "    '''\n",
        "    # Initialize the gradient vector for w0 (intercept/bias) and w1 respectively\n",
        "    grad = np.zeros(2,)\n",
        "    \n",
        "    ### START CODE HERE ###\n",
        "    \n",
        "    grad[1] =- 2*np.mean((X[:,1]*(y_true-y_pred)) )\n",
        "    grad[0] =- 2*np.mean((y_true-y_pred) )\n",
        "    \n",
        "    ### END CODE HERE ###\n",
        "    \n",
        "    return grad"
      ],
      "execution_count": 85,
      "outputs": []
    },
    {
      "cell_type": "code",
      "metadata": {
        "id": "ld6exCcweMps",
        "colab_type": "code",
        "colab": {}
      },
      "source": [
        "def gradient_descent(X, y, learning_rate=0.00001, max_iterations=100):\n",
        "    '''\n",
        "    X              : Array (m,2)\n",
        "    y              : Array (m,1)\n",
        "    learning_rate  : Learning rate\n",
        "    max_iterations : Maximum iteratons\n",
        "    \n",
        "    Returns : weights vector (2,1)\n",
        "            : losses (List)\n",
        "    '''\n",
        "    # Initialise weights vector of random values of size (2,1)\n",
        "    weights = np.random.rand(2)\n",
        "    #weights = np.zeros(2,)\n",
        "    #weights = np.array([1.0,1.0])\n",
        "    # Initialize a list to record all the losses \n",
        "    losses  = []\n",
        "    \n",
        "    ### START CODE HERE ###\n",
        "    for i in range(max_iterations):\n",
        "      y_pred = predict(X,weights)\n",
        "      losses.append(mean_squared_error(y,y_pred))\n",
        "      temp = gradient(X,y,y_pred)\n",
        "      #temp[0] = sum(temp[0])/len(X[:,0])\n",
        "      #temp[1] = sum(temp[1])/len(X[:,0])\n",
        "      weights-=(learning_rate*temp)\n",
        "\n",
        "          \n",
        "    ### END CODE HERE ###\n",
        "    \n",
        "    return weights, losses"
      ],
      "execution_count": 86,
      "outputs": []
    },
    {
      "cell_type": "markdown",
      "metadata": {
        "id": "niF-WCvVeMpw",
        "colab_type": "text"
      },
      "source": [
        "##### Congratulations! You have implemented linear regression from scratch. Let's see this in action."
      ]
    },
    {
      "cell_type": "code",
      "metadata": {
        "id": "8l8szP3ReMpx",
        "colab_type": "code",
        "colab": {}
      },
      "source": [
        "# Perform gradient descent\n",
        "optimal_weights, losses = gradient_descent(X, y)"
      ],
      "execution_count": 87,
      "outputs": []
    },
    {
      "cell_type": "code",
      "metadata": {
        "id": "sdOJX-nyeMp3",
        "colab_type": "code",
        "colab": {
          "base_uri": "https://localhost:8080/",
          "height": 34
        },
        "outputId": "e1177a69-3282-418c-ec57-d4ff75495c4d"
      },
      "source": [
        "# DO NOT CHANGE THE FOLLOWING CODE CELLS\n",
        "# Print final loss\n",
        "print(\"Mean squared error:\", losses[-1])"
      ],
      "execution_count": 88,
      "outputs": [
        {
          "output_type": "stream",
          "text": [
            "Mean squared error: 101.08231022178953\n"
          ],
          "name": "stdout"
        }
      ]
    },
    {
      "cell_type": "code",
      "metadata": {
        "id": "Q_wUIH3ueMp6",
        "colab_type": "code",
        "colab": {
          "base_uri": "https://localhost:8080/",
          "height": 295
        },
        "outputId": "4b12e92d-7b5e-4995-f303-8d53a3d55e42"
      },
      "source": [
        "# Plot the loss curve\n",
        "plt.plot([i for i in range(len(losses))], losses)\n",
        "plt.title(\"Loss curve\")\n",
        "plt.xlabel(\"Iteration num\")\n",
        "plt.ylabel(\"Loss\")\n",
        "plt.show()"
      ],
      "execution_count": 89,
      "outputs": [
        {
          "output_type": "display_data",
          "data": {
            "image/png": "[encoded data removed]",
            "text/plain": [
              "<Figure size 432x288 with 1 Axes>"
            ]
          },
          "metadata": {
            "tags": [],
            "needs_background": "light"
          }
        }
      ]
    },
    {
      "cell_type": "code",
      "metadata": {
        "id": "-VjmG_k9xY37",
        "colab_type": "code",
        "colab": {}
      },
      "source": [
        "def hypothesis(X, weights):\n",
        "    '''\n",
        "    weights   : array (2,1) w0 and w1\n",
        "    X         : array (m,2) x0 (intercept=1) and x1\n",
        "    \n",
        "    Returns predicted y using hyothesis linear function defined by given weights\n",
        "    '''\n",
        "    ### START CODE HERE ###\n",
        "    #y_pred = X[0]*weights[0]+X[1]*weights[1]\n",
        "    y_pred = np.dot(X,weights)\n",
        "    #y_pred = X*weights\n",
        "    ### END CODE HERE ###\n",
        "    print(y_pred)\n",
        "    print(X.shape[0])\n",
        "    assert (y_pred.shape==(X.shape[0],)), 'Wrong implementation of predict function. Check carefully'\n",
        "    \n",
        "    return y_pred"
      ],
      "execution_count": 90,
      "outputs": []
    },
    {
      "cell_type": "code",
      "metadata": {
        "id": "HL5OzpJaeMp-",
        "colab_type": "code",
        "colab": {
          "base_uri": "https://localhost:8080/",
          "height": 1000
        },
        "outputId": "88387fb0-3bae-4467-c7e5-16850c1e8d09"
      },
      "source": [
        "# Make predictions using trained weights\n",
        "y_pred = hypothesis(X, optimal_weights)"
      ],
      "execution_count": 91,
      "outputs": [
        {
          "output_type": "stream",
          "text": [
            "[29.88131703 24.99795989 39.64803131 68.94817415 49.41474559 73.83153129\n",
            " 59.18145987 24.99795989 88.4816027  73.83153129 39.64803131 59.18145987\n",
            " 68.94817415 49.41474559 78.71488842 68.94817415 68.94817415 49.41474559\n",
            " 24.99795989 49.41474559 68.94817415 73.83153129 73.83153129 64.06481701\n",
            " 44.53138845 44.53138845 59.18145987 78.71488842 54.29810273 59.18145987\n",
            " 54.29810273 78.71488842 78.71488842 49.41474559 68.94817415 34.76467417\n",
            " 78.71488842 78.71488842 59.18145987 64.06481701 49.41474559 59.18145987\n",
            " 88.4816027  39.64803131 49.41474559 39.64803131 59.18145987 93.36495984\n",
            " 73.83153129 34.76467417 64.06481701 64.06481701 54.29810273 49.41474559\n",
            " 64.06481701 44.53138845 73.83153129 73.83153129 49.41474559 78.71488842\n",
            " 54.29810273 39.64803131 49.41474559 44.53138845 49.41474559 73.83153129\n",
            " 64.06481701 34.76467417 44.53138845 78.71488842 73.83153129 49.41474559\n",
            " 29.88131703 59.18145987 59.18145987 44.53138845 54.29810273 54.29810273\n",
            " 39.64803131 24.99795989 59.18145987 49.41474559 29.88131703 73.83153129\n",
            " 49.41474559 44.53138845 34.76467417 68.94817415 49.41474559 29.88131703\n",
            " 34.76467417 83.59824556 29.88131703 49.41474559 64.06481701 49.41474559\n",
            " 73.83153129 44.53138845 68.94817415 44.53138845 34.76467417 83.59824556\n",
            " 64.06481701 29.88131703 88.4816027  54.29810273 39.64803131 88.4816027\n",
            " 64.06481701 73.83153129 93.36495984 49.41474559 64.06481701 93.36495984\n",
            " 44.53138845 73.83153129 64.06481701 68.94817415 34.76467417 64.06481701\n",
            " 73.83153129 68.94817415 64.06481701 54.29810273 34.76467417 64.06481701\n",
            " 49.41474559 39.64803131 20.11460275 88.4816027   0.5811742   0.5811742\n",
            " 64.06481701 54.29810273  0.5811742   0.5811742   0.5811742   0.5811742\n",
            " 59.18145987 78.71488842 44.53138845 44.53138845 54.29810273 68.94817415\n",
            "  0.5811742  54.29810273 34.76467417 54.29810273 29.88131703 44.53138845\n",
            " 24.99795989 64.06481701 49.41474559  0.5811742  54.29810273 39.64803131\n",
            " 59.18145987 39.64803131 73.83153129 59.18145987 29.88131703 44.53138845\n",
            "  0.5811742  49.41474559 39.64803131 54.29810273 49.41474559 73.83153129\n",
            " 34.76467417 68.94817415 24.99795989 73.83153129 54.29810273 34.76467417\n",
            " 54.29810273 44.53138845 64.06481701 24.99795989 39.64803131 49.41474559\n",
            " 39.64803131 64.06481701 83.59824556 44.53138845 64.06481701 59.18145987\n",
            " 59.18145987 73.83153129 34.76467417 44.53138845 59.18145987 39.64803131\n",
            " 39.64803131 44.53138845 68.94817415 73.83153129 73.83153129 44.53138845\n",
            " 88.4816027  44.53138845 78.71488842 49.41474559 44.53138845 29.88131703\n",
            " 49.41474559 44.53138845 34.76467417 59.18145987 44.53138845 34.76467417\n",
            " 39.64803131 59.18145987 64.06481701 34.76467417 49.41474559 73.83153129\n",
            " 29.88131703 29.88131703 34.76467417 49.41474559 29.88131703 24.99795989\n",
            " 78.71488842 64.06481701 64.06481701 39.64803131 73.83153129 54.29810273\n",
            " 39.64803131 49.41474559 64.06481701 54.29810273 44.53138845 64.06481701\n",
            " 34.76467417 44.53138845 64.06481701 59.18145987 54.29810273 34.76467417\n",
            " 59.18145987 54.29810273  0.5811742  59.18145987  0.5811742  88.4816027\n",
            " 59.18145987 39.64803131 24.99795989 73.83153129 39.64803131 49.41474559\n",
            " 44.53138845 44.53138845 59.18145987 44.53138845 59.18145987 54.29810273\n",
            " 68.94817415 44.53138845 88.4816027  39.64803131 59.18145987 44.53138845\n",
            " 49.41474559 83.59824556 44.53138845 49.41474559 44.53138845  0.5811742\n",
            " 44.53138845 68.94817415 54.29810273 68.94817415 49.41474559 59.18145987\n",
            " 44.53138845 44.53138845 39.64803131 54.29810273 39.64803131 44.53138845\n",
            " 59.18145987 44.53138845 44.53138845 49.41474559 88.4816027  59.18145987\n",
            " 68.94817415 64.06481701 54.29810273 73.83153129 59.18145987 88.4816027\n",
            " 64.06481701 59.18145987 44.53138845 39.64803131 64.06481701 73.83153129\n",
            " 49.41474559 54.29810273 59.18145987 83.59824556 68.94817415 59.18145987\n",
            " 88.4816027  44.53138845 59.18145987 49.41474559 44.53138845 59.18145987\n",
            " 54.29810273 49.41474559 64.06481701 54.29810273 39.64803131 49.41474559\n",
            " 54.29810273 54.29810273 64.06481701 44.53138845 54.29810273 68.94817415\n",
            " 73.83153129 59.18145987 73.83153129 49.41474559 44.53138845 68.94817415\n",
            " 39.64803131 68.94817415  0.5811742  39.64803131 44.53138845 73.83153129\n",
            " 64.06481701 39.64803131 73.83153129 49.41474559 59.18145987 49.41474559\n",
            " 73.83153129 39.64803131 49.41474559 64.06481701 73.83153129 49.41474559\n",
            " 73.83153129 64.06481701 34.76467417 64.06481701 34.76467417 39.64803131\n",
            " 54.29810273 44.53138845 64.06481701 59.18145987 49.41474559 78.71488842\n",
            " 64.06481701 59.18145987 54.29810273 73.83153129 54.29810273 49.41474559\n",
            " 64.06481701 29.88131703 49.41474559 59.18145987 34.76467417 59.18145987\n",
            " 54.29810273 24.99795989 88.4816027  39.64803131 68.94817415 44.53138845\n",
            " 73.83153129 49.41474559 68.94817415 29.88131703 54.29810273 24.99795989\n",
            " 24.99795989 44.53138845 24.99795989 24.99795989 44.53138845 24.99795989\n",
            " 44.53138845 78.71488842 39.64803131 59.18145987 44.53138845]\n",
            "395\n"
          ],
          "name": "stdout"
        }
      ]
    },
    {
      "cell_type": "code",
      "metadata": {
        "id": "ukMi9GSreMqB",
        "colab_type": "code",
        "colab": {
          "base_uri": "https://localhost:8080/",
          "height": 295
        },
        "outputId": "0503f3f4-89b6-46a8-c08c-3c73fc86d0d3"
      },
      "source": [
        "# Visualize the results by plotting it\n",
        "plt.scatter(X[:,1], y, c='r', label='Actual scores')\n",
        "plt.plot(X[:,1], y_pred, c='g', label='Fitted line | predictions')\n",
        "plt.legend()\n",
        "plt.title(\"Linear regression fitted line\")\n",
        "plt.xlabel(\"Second year grades\")\n",
        "plt.ylabel(\"Third year grades\")\n",
        "plt.show()"
      ],
      "execution_count": 92,
      "outputs": [
        {
          "output_type": "display_data",
          "data": {
            "image/png": "[encoded data removed]",
            "text/plain": [
              "<Figure size 432x288 with 1 Axes>"
            ]
          },
          "metadata": {
            "tags": [],
            "needs_background": "light"
          }
        }
      ]
    },
    {
      "cell_type": "code",
      "metadata": {
        "id": "K06XAbjoeMqF",
        "colab_type": "code",
        "colab": {}
      },
      "source": [
        ""
      ],
      "execution_count": 92,
      "outputs": []
    }
  ]
}