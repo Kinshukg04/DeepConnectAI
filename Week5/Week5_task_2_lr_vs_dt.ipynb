{
  "nbformat": 4,
  "nbformat_minor": 0,
  "metadata": {
    "kernelspec": {
      "display_name": "Python 3",
      "language": "python",
      "name": "python3"
    },
    "language_info": {
      "codemirror_mode": {
        "name": "ipython",
        "version": 3
      },
      "file_extension": ".py",
      "mimetype": "text/x-python",
      "name": "python",
      "nbconvert_exporter": "python",
      "pygments_lexer": "ipython3",
      "version": "3.8.3"
    },
    "toc": {
      "base_numbering": 1,
      "nav_menu": {},
      "number_sections": true,
      "sideBar": true,
      "skip_h1_title": false,
      "title_cell": "Table of Contents",
      "title_sidebar": "Contents",
      "toc_cell": false,
      "toc_position": {},
      "toc_section_display": true,
      "toc_window_display": false
    },
    "colab": {
      "name": "Week5: task_2_lr_vs_dt.ipynb",
      "provenance": [],
      "collapsed_sections": [],
      "toc_visible": true
    }
  },
  "cells": [
    {
      "cell_type": "markdown",
      "metadata": {
        "id": "7ILNXNi_HA6z",
        "colab_type": "text"
      },
      "source": [
        "## Predicting Customer response to Personal Loan Ad-Campaign"
      ]
    },
    {
      "cell_type": "markdown",
      "metadata": {
        "id": "kDA5DRGXHA61",
        "colab_type": "text"
      },
      "source": [
        "#### Dataset\n",
        "The dataset is available at <strong>\"data/personal_loan.csv\"</strong> in the respective challenge's repo.<br>\n",
        "Original Dataset : https://www.kaggle.com/itsmesunil/bank-loan-modelling\n",
        "\n",
        "#### Features (X)\n",
        "1. Age - Customer's age in completed years. (Numeric)\n",
        "2. Experience - No. of years of professional experience (Numeric)\n",
        "3. Income - Annual income of the customer. (Numeric)\n",
        "4. ZIPCode - Home Address ZIP code. (Numeric)\n",
        "5. Family - Family size of the customer. (Numeric)\n",
        "6. CCAvg Avg. - Spending on credit cards per month (Numeric)\n",
        "7. Education  - \n",
        "    - Education Level (Categorical|Multiclass):\n",
        "        - 1: Undergrad\n",
        "        - 2: Graduate\n",
        "        - 3: Advanced/Professional \n",
        "8. Mortgage - Value of house mortgage if any. (Numeric)\n",
        "9. Securities Account - Does the customer have a securities account with the bank? (Categorical | Binary)\n",
        "10. CD Account - Does the customer have a certificate of deposit (CD) account with the bank? (Categorical | Binary)\n",
        "11. Online - Does the customer use internet banking facilities? (Categorical | Binary)\n",
        "12. CreditCard - Does the customer uses a credit card issued by UniversalBank? (Categorical | Binary)\n",
        "\n",
        "#### Target (y)\n",
        "- Personal Loan : Did this customer accept the personal loan offered in the last campaign? (Binary)\n",
        "\n",
        "#### Objective\n",
        "- To apply Logistic Regression and Decision Tree Algorithms on the given imbalanced dataset. and compare the algorithms used on our dataset on the basis of appropriately used evaluated metrics while presenting a summarized analysis of what you find.\n",
        "\n",
        "#### Tasks\n",
        "- Download and load the data (csv file).\n",
        "- Process the data according to guidelines given in the comments of the respective cells.\n",
        "- Split the dataset into 80% for training and rest 20% for testing. (sklearn.model_selection.train_test_split function).\n",
        "- Initialize Logistic Regression and Decision Tree Models (With parameters given in the cell).\n",
        "- Train the models on the same dataset.\n",
        "- Compute the confusion matrix for both models and compare.\n",
        "- Compute a classification report (Precision, Recall and F-1 score) for both models and compare. \n",
        "- Compute and plot the ROC Curve of both curves and simultaneously compute the ROC-AUC for both models and thereby compare.\n",
        "- Summarize your findings and give reasoning for your results (comparing task_1 and task_2).\n",
        "\n",
        "#### Further Fun (will not be evaluated)\n",
        "- Train model on different train-test splits such as 60-40, 50-50, 70-30, 80-20, 90-10, 95-5 etc. and observe accuracies on both X_train and X_test.\n",
        "- Shuffle training samples with different random seed values in the train_test_split function. Check the model error for the testing data for each setup.\n",
        "- Explore ways to deal with imbalanced dataset. Use different methods (such as eliminating outliers and such) to experiment with the given dataset.\n",
        "\n",
        "#### Helpful links\n",
        "- pd.get_dummies() and One Hot Encoding: https://queirozf.com/entries/one-hot-encoding-a-feature-on-a-pandas-dataframe-an-example\n",
        "- Differences between Logistic Regression and a Decision Tree: https://www.geeksforgeeks.org/ml-logistic-regression-v-s-decision-tree-classification/\n",
        "- When are Decision Trees better than Logistic Regression?: https://www.displayr.com/decision-trees-are-usually-better-than-logistic-regression\n",
        "- How to choose between Logistic Regression and Decision Trees given a dataset: https://datascience.stackexchange.com/questions/6048/should-i-use-a-decision-tree-or-logistic-regression-for-classification\n",
        "- Decision Tree Classifier by Sklearn: https://scikit-learn.org/stable/modules/generated/sklearn.tree.DecisionTreeClassifier.html\n",
        "- Understanding classification metrics like Precision, Recall, F-Scores and Confusion matrices: https://nillsf.com/index.php/2020/05/23/confusion-matrix-accuracy-recall-precision-false-positive-rate-and-f-scores-explained/\n",
        "- Understanding the ROC Curve: https://developers.google.com/machine-learning/crash-course/classification/roc-and-auc\n",
        "- Use slack for doubts: https://join.slack.com/t/deepconnectai/shared_invite/zt-givlfnf6-~cn3SQ43k0BGDrG9_YOn4g\n"
      ]
    },
    {
      "cell_type": "code",
      "metadata": {
        "id": "blA7WIqMHA62",
        "colab_type": "code",
        "colab": {}
      },
      "source": [
        "# Importing necessary libraries\n",
        "import pandas as pd\n",
        "import numpy as np\n",
        "import matplotlib.pyplot as plt\n",
        "from sklearn.preprocessing import LabelEncoder\n",
        "from sklearn.preprocessing import MinMaxScaler, StandardScaler\n",
        "from sklearn.model_selection import train_test_split\n",
        "from sklearn.linear_model import LogisticRegression\n",
        "from sklearn.tree import DecisionTreeClassifier\n",
        "from sklearn.metrics import f1_score, precision_score, recall_score\n",
        "from sklearn.metrics import accuracy_score, confusion_matrix, classification_report\n",
        "from sklearn.metrics import roc_curve, roc_auc_score"
      ],
      "execution_count": 1,
      "outputs": []
    },
    {
      "cell_type": "code",
      "metadata": {
        "id": "PcJhs19QHA69",
        "colab_type": "code",
        "colab": {
          "base_uri": "https://localhost:8080/",
          "height": 286
        },
        "outputId": "e1f5f8af-76a5-4377-cd45-d95f547f141f"
      },
      "source": [
        "# Download the dataset from the source\n",
        "!wget https://github.com/DeepConnectAI/challenge-week-5/raw/master/data/personal_loan.csv"
      ],
      "execution_count": 2,
      "outputs": [
        {
          "output_type": "stream",
          "text": [
            "--2020-09-13 14:53:21--  https://github.com/DeepConnectAI/challenge-week-5/raw/master/data/personal_loan.csv\n",
            "Resolving github.com (github.com)... 140.82.114.3\n",
            "Connecting to github.com (github.com)|140.82.114.3|:443... connected.\n",
            "HTTP request sent, awaiting response... 302 Found\n",
            "Location: https://raw.githubusercontent.com/DeepConnectAI/challenge-week-5/master/data/personal_loan.csv [following]\n",
            "--2020-09-13 14:53:22--  https://raw.githubusercontent.com/DeepConnectAI/challenge-week-5/master/data/personal_loan.csv\n",
            "Resolving raw.githubusercontent.com (raw.githubusercontent.com)... 151.101.0.133, 151.101.64.133, 151.101.128.133, ...\n",
            "Connecting to raw.githubusercontent.com (raw.githubusercontent.com)|151.101.0.133|:443... connected.\n",
            "HTTP request sent, awaiting response... 200 OK\n",
            "Length: 179974 (176K) [text/plain]\n",
            "Saving to: ‘personal_loan.csv’\n",
            "\n",
            "personal_loan.csv   100%[===================>] 175.76K  --.-KB/s    in 0.03s   \n",
            "\n",
            "2020-09-13 14:53:22 (4.97 MB/s) - ‘personal_loan.csv’ saved [179974/179974]\n",
            "\n"
          ],
          "name": "stdout"
        }
      ]
    },
    {
      "cell_type": "code",
      "metadata": {
        "id": "0vpMi6bfHA7C",
        "colab_type": "code",
        "colab": {}
      },
      "source": [
        "# Read the data from local cloud directory\n",
        "data = pd.read_csv('./personal_loan.csv')"
      ],
      "execution_count": 3,
      "outputs": []
    },
    {
      "cell_type": "code",
      "metadata": {
        "id": "AZeK0UohHA7H",
        "colab_type": "code",
        "colab": {
          "base_uri": "https://localhost:8080/",
          "height": 195
        },
        "outputId": "f5d92a2a-1701-493e-cfc0-fd2371699c12"
      },
      "source": [
        "# Print the dataframe rows just to see some samples\n",
        "data.head()"
      ],
      "execution_count": 4,
      "outputs": [
        {
          "output_type": "execute_result",
          "data": {
            "text/html": [
              "<div>\n",
              "<style scoped>\n",
              "    .dataframe tbody tr th:only-of-type {\n",
              "        vertical-align: middle;\n",
              "    }\n",
              "\n",
              "    .dataframe tbody tr th {\n",
              "        vertical-align: top;\n",
              "    }\n",
              "\n",
              "    .dataframe thead th {\n",
              "        text-align: right;\n",
              "    }\n",
              "</style>\n",
              "<table border=\"1\" class=\"dataframe\">\n",
              "  <thead>\n",
              "    <tr style=\"text-align: right;\">\n",
              "      <th></th>\n",
              "      <th>Age</th>\n",
              "      <th>Experience</th>\n",
              "      <th>Income</th>\n",
              "      <th>ZIP Code</th>\n",
              "      <th>Family</th>\n",
              "      <th>CCAvg</th>\n",
              "      <th>Education</th>\n",
              "      <th>Mortgage</th>\n",
              "      <th>CreditCard</th>\n",
              "      <th>Securities Account</th>\n",
              "      <th>CD Account</th>\n",
              "      <th>Online</th>\n",
              "      <th>Personal Loan</th>\n",
              "    </tr>\n",
              "  </thead>\n",
              "  <tbody>\n",
              "    <tr>\n",
              "      <th>0</th>\n",
              "      <td>25</td>\n",
              "      <td>1</td>\n",
              "      <td>49</td>\n",
              "      <td>91107</td>\n",
              "      <td>4</td>\n",
              "      <td>1.6</td>\n",
              "      <td>1</td>\n",
              "      <td>0</td>\n",
              "      <td>0</td>\n",
              "      <td>1</td>\n",
              "      <td>0</td>\n",
              "      <td>0</td>\n",
              "      <td>0</td>\n",
              "    </tr>\n",
              "    <tr>\n",
              "      <th>1</th>\n",
              "      <td>45</td>\n",
              "      <td>19</td>\n",
              "      <td>34</td>\n",
              "      <td>90089</td>\n",
              "      <td>3</td>\n",
              "      <td>1.5</td>\n",
              "      <td>1</td>\n",
              "      <td>0</td>\n",
              "      <td>0</td>\n",
              "      <td>1</td>\n",
              "      <td>0</td>\n",
              "      <td>0</td>\n",
              "      <td>0</td>\n",
              "    </tr>\n",
              "    <tr>\n",
              "      <th>2</th>\n",
              "      <td>39</td>\n",
              "      <td>15</td>\n",
              "      <td>11</td>\n",
              "      <td>94720</td>\n",
              "      <td>1</td>\n",
              "      <td>1.0</td>\n",
              "      <td>1</td>\n",
              "      <td>0</td>\n",
              "      <td>0</td>\n",
              "      <td>0</td>\n",
              "      <td>0</td>\n",
              "      <td>0</td>\n",
              "      <td>0</td>\n",
              "    </tr>\n",
              "    <tr>\n",
              "      <th>3</th>\n",
              "      <td>35</td>\n",
              "      <td>9</td>\n",
              "      <td>100</td>\n",
              "      <td>94112</td>\n",
              "      <td>1</td>\n",
              "      <td>2.7</td>\n",
              "      <td>2</td>\n",
              "      <td>0</td>\n",
              "      <td>0</td>\n",
              "      <td>0</td>\n",
              "      <td>0</td>\n",
              "      <td>0</td>\n",
              "      <td>0</td>\n",
              "    </tr>\n",
              "    <tr>\n",
              "      <th>4</th>\n",
              "      <td>35</td>\n",
              "      <td>8</td>\n",
              "      <td>45</td>\n",
              "      <td>91330</td>\n",
              "      <td>4</td>\n",
              "      <td>1.0</td>\n",
              "      <td>2</td>\n",
              "      <td>0</td>\n",
              "      <td>1</td>\n",
              "      <td>0</td>\n",
              "      <td>0</td>\n",
              "      <td>0</td>\n",
              "      <td>0</td>\n",
              "    </tr>\n",
              "  </tbody>\n",
              "</table>\n",
              "</div>"
            ],
            "text/plain": [
              "   Age  Experience  Income  ...  CD Account  Online  Personal Loan\n",
              "0   25           1      49  ...           0       0              0\n",
              "1   45          19      34  ...           0       0              0\n",
              "2   39          15      11  ...           0       0              0\n",
              "3   35           9     100  ...           0       0              0\n",
              "4   35           8      45  ...           0       0              0\n",
              "\n",
              "[5 rows x 13 columns]"
            ]
          },
          "metadata": {
            "tags": []
          },
          "execution_count": 4
        }
      ]
    },
    {
      "cell_type": "code",
      "metadata": {
        "id": "wDhN1MjnHA7N",
        "colab_type": "code",
        "colab": {
          "base_uri": "https://localhost:8080/",
          "height": 34
        },
        "outputId": "da720ccf-87d6-4284-b9a0-bde1d1e689a4"
      },
      "source": [
        "# Print shape of the dataframe\n",
        "data.shape"
      ],
      "execution_count": 5,
      "outputs": [
        {
          "output_type": "execute_result",
          "data": {
            "text/plain": [
              "(5000, 13)"
            ]
          },
          "metadata": {
            "tags": []
          },
          "execution_count": 5
        }
      ]
    },
    {
      "cell_type": "code",
      "metadata": {
        "id": "j482pCRaHA7S",
        "colab_type": "code",
        "colab": {
          "base_uri": "https://localhost:8080/",
          "height": 67
        },
        "outputId": "652e8a38-f9e5-47c6-caa6-6220afb6cec6"
      },
      "source": [
        "# Take a look at the distribution of target variable (Below is an example of what we mean)\n",
        "print(data['Personal Loan'].value_counts())"
      ],
      "execution_count": 6,
      "outputs": [
        {
          "output_type": "stream",
          "text": [
            "0    4520\n",
            "1     480\n",
            "Name: Personal Loan, dtype: int64\n"
          ],
          "name": "stdout"
        }
      ]
    },
    {
      "cell_type": "markdown",
      "metadata": {
        "id": "MvqB7rX8HA7k",
        "colab_type": "text"
      },
      "source": [
        "### This is an imbalanced dataset, as shown above"
      ]
    },
    {
      "cell_type": "code",
      "metadata": {
        "id": "ckhJhhquHA7k",
        "colab_type": "code",
        "colab": {
          "base_uri": "https://localhost:8080/",
          "height": 370
        },
        "outputId": "84a7aa9f-2682-43d0-b33f-7af05dfe305f"
      },
      "source": [
        "# Print info about dataset\n",
        "print(data.info())"
      ],
      "execution_count": 7,
      "outputs": [
        {
          "output_type": "stream",
          "text": [
            "<class 'pandas.core.frame.DataFrame'>\n",
            "RangeIndex: 5000 entries, 0 to 4999\n",
            "Data columns (total 13 columns):\n",
            " #   Column              Non-Null Count  Dtype  \n",
            "---  ------              --------------  -----  \n",
            " 0   Age                 5000 non-null   int64  \n",
            " 1   Experience          5000 non-null   int64  \n",
            " 2   Income              5000 non-null   int64  \n",
            " 3   ZIP Code            5000 non-null   int64  \n",
            " 4   Family              5000 non-null   int64  \n",
            " 5   CCAvg               5000 non-null   float64\n",
            " 6   Education           5000 non-null   int64  \n",
            " 7   Mortgage            5000 non-null   int64  \n",
            " 8   CreditCard          5000 non-null   int64  \n",
            " 9   Securities Account  5000 non-null   int64  \n",
            " 10  CD Account          5000 non-null   int64  \n",
            " 11  Online              5000 non-null   int64  \n",
            " 12  Personal Loan       5000 non-null   int64  \n",
            "dtypes: float64(1), int64(12)\n",
            "memory usage: 507.9 KB\n",
            "None\n"
          ],
          "name": "stdout"
        }
      ]
    },
    {
      "cell_type": "code",
      "metadata": {
        "id": "JP2S5FqpHA7q",
        "colab_type": "code",
        "colab": {
          "base_uri": "https://localhost:8080/",
          "height": 34
        },
        "outputId": "7d63ef55-50b9-461a-f23a-40e880fc758a"
      },
      "source": [
        "# Fill Missing Values (if any)\n",
        "data.isnull().values.any()"
      ],
      "execution_count": 8,
      "outputs": [
        {
          "output_type": "execute_result",
          "data": {
            "text/plain": [
              "False"
            ]
          },
          "metadata": {
            "tags": []
          },
          "execution_count": 8
        }
      ]
    },
    {
      "cell_type": "code",
      "metadata": {
        "id": "MGajXWQoHA7v",
        "colab_type": "code",
        "colab": {}
      },
      "source": [
        "# Label Encode Categorical Columns (if required)\n",
        "le = LabelEncoder()\n",
        "le.fit(data['Education'])\n",
        "data['Education'] = le.transform(data['Education'])"
      ],
      "execution_count": 10,
      "outputs": []
    },
    {
      "cell_type": "code",
      "metadata": {
        "id": "ZGOlRYIHHA7y",
        "colab_type": "code",
        "colab": {}
      },
      "source": [
        "# Normalize/Standardize numerical columns\n",
        "num  = ['Age','Experience','Income','ZIP Code','Family','CCAvg','Mortgage']\n",
        "for i in num:\n",
        "  data[i] = (data[i] - data[i].min())/(data[i].max() - data[i].min())"
      ],
      "execution_count": 12,
      "outputs": []
    },
    {
      "cell_type": "code",
      "metadata": {
        "id": "uJcZJ8O9HA72",
        "colab_type": "code",
        "colab": {}
      },
      "source": [
        "# One hot encode columns with multiple categories\n",
        "# Use pd.get_dummies(), concatenate that with the original dataset, and drop the column (keeping only the dummy columns)\n",
        "# Use link given in the \"Helpful Links\" section for help\n",
        "x = pd.get_dummies(data['Education'], prefix = 'Education')\n",
        "data = pd.concat([data,x],axis = 1)\n"
      ],
      "execution_count": 13,
      "outputs": []
    },
    {
      "cell_type": "code",
      "metadata": {
        "id": "mEHpmn0TBZVd",
        "colab_type": "code",
        "colab": {}
      },
      "source": [
        "data = data.drop('Education',axis = 1)"
      ],
      "execution_count": 14,
      "outputs": []
    },
    {
      "cell_type": "code",
      "metadata": {
        "id": "pwSbkRNDHA77",
        "colab_type": "code",
        "colab": {
          "base_uri": "https://localhost:8080/",
          "height": 34
        },
        "outputId": "8488073c-451b-4964-c0b2-2fb1574498a2"
      },
      "source": [
        "# Define Feature Columns as X and Target Column as y\n",
        "X = data.iloc[:,:-1].values\n",
        "y = data['Personal Loan'].values\n",
        "print(X.shape,y.shape)"
      ],
      "execution_count": 37,
      "outputs": [
        {
          "output_type": "stream",
          "text": [
            "(5000, 14) (5000,)\n"
          ],
          "name": "stdout"
        }
      ]
    },
    {
      "cell_type": "code",
      "metadata": {
        "id": "fKEMiTkcHA8B",
        "colab_type": "code",
        "colab": {}
      },
      "source": [
        "# Do train-test split\n",
        "X_train, X_test, y_train, y_test = train_test_split(X, y, test_size=0.20, random_state=42)"
      ],
      "execution_count": 17,
      "outputs": []
    },
    {
      "cell_type": "markdown",
      "metadata": {
        "id": "UEX9y_ThHA8F",
        "colab_type": "text"
      },
      "source": [
        "### Logistic Regression Model"
      ]
    },
    {
      "cell_type": "code",
      "metadata": {
        "id": "HumrtKC8HA8G",
        "colab_type": "code",
        "colab": {}
      },
      "source": [
        "# Initializing the model\n",
        "log_reg = LogisticRegression()"
      ],
      "execution_count": 18,
      "outputs": []
    },
    {
      "cell_type": "code",
      "metadata": {
        "id": "cMAjhsvWHA8K",
        "colab_type": "code",
        "colab": {
          "base_uri": "https://localhost:8080/",
          "height": 101
        },
        "outputId": "1e84a5cb-7bec-4df3-b0d1-25ba4a388401"
      },
      "source": [
        "# Train the model\n",
        "log_reg.fit(X_train,y_train)"
      ],
      "execution_count": 19,
      "outputs": [
        {
          "output_type": "execute_result",
          "data": {
            "text/plain": [
              "LogisticRegression(C=1.0, class_weight=None, dual=False, fit_intercept=True,\n",
              "                   intercept_scaling=1, l1_ratio=None, max_iter=100,\n",
              "                   multi_class='auto', n_jobs=None, penalty='l2',\n",
              "                   random_state=None, solver='lbfgs', tol=0.0001, verbose=0,\n",
              "                   warm_start=False)"
            ]
          },
          "metadata": {
            "tags": []
          },
          "execution_count": 19
        }
      ]
    },
    {
      "cell_type": "code",
      "metadata": {
        "id": "dZ5M4zxtHA8N",
        "colab_type": "code",
        "colab": {
          "base_uri": "https://localhost:8080/",
          "height": 134
        },
        "outputId": "8177cf0b-6a92-42db-83eb-4935de7680b5"
      },
      "source": [
        "# Make Predictions on the test data (log_prob values represents raw probabilities of predictions)\n",
        "# It will be used for ROC Curves\n",
        "log_pred = log_reg.predict(X_test)\n",
        "log_prob = log_reg.predict_proba(X_test)"
      ],
      "execution_count": 21,
      "outputs": [
        {
          "output_type": "execute_result",
          "data": {
            "text/plain": [
              "array([[0.99863284, 0.00136716],\n",
              "       [0.03049199, 0.96950801],\n",
              "       [0.99690219, 0.00309781],\n",
              "       ...,\n",
              "       [0.9981472 , 0.0018528 ],\n",
              "       [0.99779845, 0.00220155],\n",
              "       [0.99806772, 0.00193228]])"
            ]
          },
          "metadata": {
            "tags": []
          },
          "execution_count": 21
        }
      ]
    },
    {
      "cell_type": "code",
      "metadata": {
        "id": "lwnvJ5OeB4t3",
        "colab_type": "code",
        "colab": {}
      },
      "source": [
        "log_prob = log_prob[:,1]"
      ],
      "execution_count": 22,
      "outputs": []
    },
    {
      "cell_type": "markdown",
      "metadata": {
        "id": "xNNEfF2qHA8S",
        "colab_type": "text"
      },
      "source": [
        "### Decision Tree Model"
      ]
    },
    {
      "cell_type": "code",
      "metadata": {
        "id": "JMdTu7MqHA8T",
        "colab_type": "code",
        "colab": {}
      },
      "source": [
        "# Initializing the model\n",
        "d_tree = DecisionTreeClassifier()"
      ],
      "execution_count": 24,
      "outputs": []
    },
    {
      "cell_type": "code",
      "metadata": {
        "id": "zq3zx-eJHA8X",
        "colab_type": "code",
        "colab": {
          "base_uri": "https://localhost:8080/",
          "height": 118
        },
        "outputId": "83823369-5a0c-478e-979b-1d11b12b8291"
      },
      "source": [
        "# Train the model\n",
        "d_tree.fit(X_train,y_train)"
      ],
      "execution_count": 25,
      "outputs": [
        {
          "output_type": "execute_result",
          "data": {
            "text/plain": [
              "DecisionTreeClassifier(ccp_alpha=0.0, class_weight=None, criterion='gini',\n",
              "                       max_depth=None, max_features=None, max_leaf_nodes=None,\n",
              "                       min_impurity_decrease=0.0, min_impurity_split=None,\n",
              "                       min_samples_leaf=1, min_samples_split=2,\n",
              "                       min_weight_fraction_leaf=0.0, presort='deprecated',\n",
              "                       random_state=None, splitter='best')"
            ]
          },
          "metadata": {
            "tags": []
          },
          "execution_count": 25
        }
      ]
    },
    {
      "cell_type": "code",
      "metadata": {
        "id": "Jus7YFQtHA8a",
        "colab_type": "code",
        "colab": {}
      },
      "source": [
        "# Make Predictions on the test data (dt_prob values represents raw probabilities of predictions)\n",
        "# It will be used for ROC Curves\n",
        "dt_pred = d_tree.predict(X_test)\n",
        "dt_prob = d_tree.predict_proba(X_test)\n",
        "dt_prob = dt_prob[:,1]"
      ],
      "execution_count": 26,
      "outputs": []
    },
    {
      "cell_type": "markdown",
      "metadata": {
        "id": "AOySxTyOHA8e",
        "colab_type": "text"
      },
      "source": [
        "## Evaluating Our Models"
      ]
    },
    {
      "cell_type": "code",
      "metadata": {
        "id": "e9js_iV8HA8f",
        "colab_type": "code",
        "colab": {
          "base_uri": "https://localhost:8080/",
          "height": 50
        },
        "outputId": "6417447a-3732-45af-dded-fa67256c041c"
      },
      "source": [
        "# Confusion matrix for Logistic Regression Model\n",
        "print(confusion_matrix(y_test,log_pred))"
      ],
      "execution_count": 27,
      "outputs": [
        {
          "output_type": "stream",
          "text": [
            "[[895   0]\n",
            " [  0 105]]\n"
          ],
          "name": "stdout"
        }
      ]
    },
    {
      "cell_type": "code",
      "metadata": {
        "id": "JgZWCRQ_HA8j",
        "colab_type": "code",
        "colab": {
          "base_uri": "https://localhost:8080/",
          "height": 50
        },
        "outputId": "113d3675-2165-4029-b965-232fb9cd67cf"
      },
      "source": [
        "# Confusion matrix for Decision Tree Model\n",
        "print(confusion_matrix(y_test,dt_pred))"
      ],
      "execution_count": 28,
      "outputs": [
        {
          "output_type": "stream",
          "text": [
            "[[895   0]\n",
            " [  0 105]]\n"
          ],
          "name": "stdout"
        }
      ]
    },
    {
      "cell_type": "markdown",
      "metadata": {
        "id": "cZ4kilqBHA8m",
        "colab_type": "text"
      },
      "source": [
        "### <b>Think</b> : Would accuracy_score be a good evaluation metric, given that the dataset is imbalanced?"
      ]
    },
    {
      "cell_type": "code",
      "metadata": {
        "id": "EOze253sHA8n",
        "colab_type": "code",
        "colab": {}
      },
      "source": [
        "# Since the dataset is imbalanced, we evaluate our model using F1-Score"
      ],
      "execution_count": null,
      "outputs": []
    },
    {
      "cell_type": "code",
      "metadata": {
        "id": "EUsKFb9GHA8r",
        "colab_type": "code",
        "colab": {
          "base_uri": "https://localhost:8080/",
          "height": 34
        },
        "outputId": "1b68486d-101b-4da7-d8e3-bae07ead7ee5"
      },
      "source": [
        "# F1-Score for Logistic Regression Model\n",
        "print(f1_score(y_test,log_pred))"
      ],
      "execution_count": 29,
      "outputs": [
        {
          "output_type": "stream",
          "text": [
            "1.0\n"
          ],
          "name": "stdout"
        }
      ]
    },
    {
      "cell_type": "code",
      "metadata": {
        "id": "VHhjH7JsHA8u",
        "colab_type": "code",
        "colab": {
          "base_uri": "https://localhost:8080/",
          "height": 34
        },
        "outputId": "16450925-c126-4f05-9e20-2b075f68102d"
      },
      "source": [
        "# F1-Score for Decision Tree Model\n",
        "print(f1_score(y_test,dt_pred))"
      ],
      "execution_count": 30,
      "outputs": [
        {
          "output_type": "stream",
          "text": [
            "1.0\n"
          ],
          "name": "stdout"
        }
      ]
    },
    {
      "cell_type": "code",
      "metadata": {
        "id": "tOHuCvRTHA80",
        "colab_type": "code",
        "colab": {
          "base_uri": "https://localhost:8080/",
          "height": 168
        },
        "outputId": "ed77368f-ae70-49bb-fdbc-b9b7e5325cce"
      },
      "source": [
        "# Classification report for Logistic Regression Model\n",
        "print(classification_report(y_test,log_pred))"
      ],
      "execution_count": 31,
      "outputs": [
        {
          "output_type": "stream",
          "text": [
            "              precision    recall  f1-score   support\n",
            "\n",
            "           0       1.00      1.00      1.00       895\n",
            "           1       1.00      1.00      1.00       105\n",
            "\n",
            "    accuracy                           1.00      1000\n",
            "   macro avg       1.00      1.00      1.00      1000\n",
            "weighted avg       1.00      1.00      1.00      1000\n",
            "\n"
          ],
          "name": "stdout"
        }
      ]
    },
    {
      "cell_type": "code",
      "metadata": {
        "id": "olEH4kMrHA85",
        "colab_type": "code",
        "colab": {
          "base_uri": "https://localhost:8080/",
          "height": 168
        },
        "outputId": "e804077b-c2de-4920-8a54-508091c11d73"
      },
      "source": [
        "# Classification report for Decision Tree Model\n",
        "print(classification_report(y_test,dt_pred))"
      ],
      "execution_count": 32,
      "outputs": [
        {
          "output_type": "stream",
          "text": [
            "              precision    recall  f1-score   support\n",
            "\n",
            "           0       1.00      1.00      1.00       895\n",
            "           1       1.00      1.00      1.00       105\n",
            "\n",
            "    accuracy                           1.00      1000\n",
            "   macro avg       1.00      1.00      1.00      1000\n",
            "weighted avg       1.00      1.00      1.00      1000\n",
            "\n"
          ],
          "name": "stdout"
        }
      ]
    },
    {
      "cell_type": "markdown",
      "metadata": {
        "id": "DLoNgZc7HA88",
        "colab_type": "text"
      },
      "source": [
        "### Plotting the ROC Curve and computing the ROC-AUC"
      ]
    },
    {
      "cell_type": "code",
      "metadata": {
        "id": "oZ7QEFyoHA89",
        "colab_type": "code",
        "colab": {}
      },
      "source": [
        "#ROC-AUC curve is a performance measurement for classification problems at various thresholds settings."
      ],
      "execution_count": null,
      "outputs": []
    },
    {
      "cell_type": "code",
      "metadata": {
        "id": "vqqZi9i2HA9A",
        "colab_type": "code",
        "colab": {}
      },
      "source": [
        "#Calculate False Positive Rate and True Positive Rate for y_test\n",
        "fpr1, tpr1, thresh1 = roc_curve(y_test, log_prob, pos_label=1)\n",
        "fpr2, tpr2, thresh2 = roc_curve(y_test, dt_prob, pos_label=1)\n",
        "\n",
        "random_probs = [0 for i in range(len(y_test))]\n",
        "p_fpr, p_tpr, _ = roc_curve(y_test, random_probs, pos_label=1)"
      ],
      "execution_count": 33,
      "outputs": []
    },
    {
      "cell_type": "code",
      "metadata": {
        "id": "-t9GnUC8HA9E",
        "colab_type": "code",
        "colab": {
          "base_uri": "https://localhost:8080/",
          "height": 376
        },
        "outputId": "08002496-0556-4b18-9493-8c801d56119b"
      },
      "source": [
        "#Plot ROC Curve (TPR vs FPR)\n",
        "plt.style.use('seaborn')\n",
        "plt.plot(fpr1, tpr1, linestyle='--',color='orange', label='Logistic Regression')\n",
        "plt.plot(fpr2, tpr2, linestyle='-',color='green', label='Decision Tree')\n",
        "plt.plot(p_fpr, p_tpr, linestyle='-.', color='blue')\n",
        "plt.title('ROC curve')\n",
        "plt.xlabel('False Positive Rate')\n",
        "plt.ylabel('True Positive rate')\n",
        "plt.legend(loc='best')\n",
        "plt.show();"
      ],
      "execution_count": 34,
      "outputs": [
        {
          "output_type": "display_data",
          "data": {
            "image/png": "[encoded data removed]",
            "text/plain": [
              "<Figure size 576x396 with 1 Axes>"
            ]
          },
          "metadata": {
            "tags": []
          }
        }
      ]
    },
    {
      "cell_type": "code",
      "metadata": {
        "id": "pH0mBIgzHA9I",
        "colab_type": "code",
        "colab": {
          "base_uri": "https://localhost:8080/",
          "height": 50
        },
        "outputId": "8d5e0f84-6c78-4a73-f096-ab5959ddc9bc"
      },
      "source": [
        "#Print ROC-AUC scores for both models\n",
        "auc_score1 = roc_auc_score(y_test, log_pred)\n",
        "auc_score2 = roc_auc_score(y_test, dt_pred)\n",
        "\n",
        "print(\"ROC-AUC Score for Logistic Regression: \",auc_score1)\n",
        "print(\"ROC-AUC Score for Decision Tree: \",auc_score2)"
      ],
      "execution_count": 35,
      "outputs": [
        {
          "output_type": "stream",
          "text": [
            "ROC-AUC Score for Logistic Regression:  1.0\n",
            "ROC-AUC Score for Decision Tree:  1.0\n"
          ],
          "name": "stdout"
        }
      ]
    },
    {
      "cell_type": "markdown",
      "metadata": {
        "id": "6KF6suomHA9L",
        "colab_type": "text"
      },
      "source": [
        "## Conclusive Analysis"
      ]
    },
    {
      "cell_type": "markdown",
      "metadata": {
        "id": "hiBBLpcaHA9M",
        "colab_type": "text"
      },
      "source": [
        "Summarize your findings and give reasoning for the results you obtained from task_1 and task_2 and compare the algorithms utilized based on the evaluations metrics used."
      ]
    },
    {
      "cell_type": "code",
      "metadata": {
        "id": "ZJZxb8enHA9M",
        "colab_type": "code",
        "colab": {
          "base_uri": "https://localhost:8080/",
          "height": 34
        },
        "outputId": "bcdc270d-1575-4f7b-98be-bfc026d55ba5"
      },
      "source": [
        "print('Scores are same for both logicstic regression and decision tree. Accuracy is also same. Probably the data is too simple to compare both algos')"
      ],
      "execution_count": 36,
      "outputs": [
        {
          "output_type": "stream",
          "text": [
            "Scores are same for both logicstic regression and decision tree. Accuracy is also same. Probably the data is too simple to compare bothe algos\n"
          ],
          "name": "stdout"
        }
      ]
    },
    {
      "cell_type": "code",
      "metadata": {
        "id": "N8ppo8xDEFlT",
        "colab_type": "code",
        "colab": {}
      },
      "source": [
        ""
      ],
      "execution_count": null,
      "outputs": []
    }
  ]
}